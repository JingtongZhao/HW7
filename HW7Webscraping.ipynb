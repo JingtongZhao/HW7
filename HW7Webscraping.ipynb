{
 "cells": [
  {
   "cell_type": "markdown",
   "metadata": {},
   "source": [
    "# Data-X Spring 2019: Homework 7\n",
    "\n",
    "### Webscraping\n",
    "\n",
    "\n",
    "\n",
    "In this homework, you will do some exercises with web-scraping."
   ]
  },
  {
   "cell_type": "markdown",
   "metadata": {},
   "source": [
    "## Name: Jingtong Zhao\n",
    "\n",
    "## SID: 3034266733\n",
    "\n"
   ]
  },
  {
   "cell_type": "markdown",
   "metadata": {},
   "source": [
    "### Fun with Webscraping & Text manipulation\n"
   ]
  },
  {
   "cell_type": "markdown",
   "metadata": {
    "collapsed": true
   },
   "source": [
    "## 1. Statistics in Presidential Debates\n",
    "\n",
    "Your first task is to scrape Presidential Debates from the Commission of Presidential Debates website: https://www.debates.org/voter-education/debate-transcripts/\n",
    "\n",
    "To do this, you are not allowed to manually look up the URLs that you need, instead you have to scrape them. The root url to be scraped is the one listed above, namely: https://www.debates.org/voter-education/debate-transcripts/\n",
    "\n",
    "\n",
    "1. By using `requests` and `BeautifulSoup` find all the links / URLs on the website that links to transcriptions of **First Presidential Debates** from the years [1988, 1984, 1976, 1960]. In total you should find 4 links / URLs that fulfill this criteria. **Print the urls.**\n",
    "\n",
    "2. When you have a list of the URLs your task is to create a Data Frame with some statistics (see example of output below):\n",
    "    1. Scrape the title of each link and use that as the column name in your Data Frame. \n",
    "    2. Count how long the transcript of the debate is (as in the number of characters in transcription string). Feel free to include `\\` characters in your count, but remove any breakline characters, i.e. `\\n`. You will get credit if your count is +/- 10% from our result.\n",
    "    3. Count how many times the word **war** was used in the different debates. Note that you have to convert the text in a smart way (to not count the word **warranty** for example, but counting **war.**, **war!**, **war,** or **War** etc.\n",
    "    4. Also scrape the most common used word in the debate, and write how many times it was used. Note that you have to use the same strategy as in C in order to do this.\n",
    "    \n",
    "    **Print your final output result.**\n",
    "    \n",
    "**Tips:**\n",
    "\n",
    "___\n",
    "\n",
    "In order to solve the questions above, it can be useful to work with Regular Expressions and explore methods on strings like `.strip(), .replace(), .find(), .count(), .lower()` etc. Both are very powerful tools to do string processing in Python. To count common words for example I used a `Counter` object and a Regular expression pattern for only words, see example:\n",
    "\n",
    "```python\n",
    "    from collections import Counter\n",
    "    import re\n",
    "\n",
    "    counts = Counter(re.findall(r\"[\\w']+\", text.lower()))\n",
    "```\n",
    "\n",
    "Read more about Regular Expressions here: https://docs.python.org/3/howto/regex.html\n",
    "    \n",
    "    \n",
    "**Example output of all of the answers to Question 1.2:**\n",
    "\n",
    "\n",
    "![pres_stats_2](https://github.com/ikhlaqsidhu/data-x/raw/master/x-archive/misc/hw2_imgs_spring2018/presidents_stats_2.jpg)\n",
    "\n",
    "\n",
    "\n",
    "----\n",
    "\n",
    ".\n",
    "\n",
    "\n"
   ]
  },
  {
   "cell_type": "code",
   "execution_count": 1,
   "metadata": {},
   "outputs": [
    {
     "data": {
      "text/html": [
       "<style>.container { width:90% !important; }</style>"
      ],
      "text/plain": [
       "<IPython.core.display.HTML object>"
      ]
     },
     "metadata": {},
     "output_type": "display_data"
    }
   ],
   "source": [
    "# stretch Jupyter coding blocks to fit screen\n",
    "from IPython.core.display import display, HTML\n",
    "display(HTML(\"<style>.container { width:90% !important; }</style>\")) \n",
    "# if 100% it would fit the screen\n",
    "\n"
   ]
  },
  {
   "cell_type": "code",
   "execution_count": 2,
   "metadata": {},
   "outputs": [],
   "source": [
    "# make it run on py2 and py3\n",
    "from __future__ import division, print_function\n",
    "\n",
    "import requests # The requests library is an \n",
    "# HTTP library for getting and posting content etc.\n",
    "\n",
    "import bs4 as bs # BeautifulSoup4 is a Python library \n",
    "# for pulling data out of HTML and XML code.\n",
    "# We can query markup languages for specific content\n",
    "from collections import Counter\n",
    "import re\n",
    "import pandas as pd"
   ]
  },
  {
   "cell_type": "code",
   "execution_count": 3,
   "metadata": {},
   "outputs": [
    {
     "name": "stdout",
     "output_type": "stream",
     "text": [
      "<Response [200]>\n"
     ]
    }
   ],
   "source": [
    "source = requests.get(\"https://www.debates.org/voter-education/debate-transcripts/\") \n",
    "# a GET request will download the HTML webpage.\n",
    "print(source) # If <Response [200]> then \n",
    "# the website has been downloaded succesfully"
   ]
  },
  {
   "cell_type": "code",
   "execution_count": 4,
   "metadata": {},
   "outputs": [],
   "source": [
    "# Convert source.content to a beautifulsoup object \n",
    "# beautifulsoup can parse (extract specific information) HTML code\n",
    "\n",
    "soup = bs.BeautifulSoup(source.content, features='html.parser') \n",
    "# we pass in the source content\n",
    "# features specifies what type of code we are parsing, \n",
    "# here 'html.parser' specifies that we want beautiful soup to parse HTML code\n",
    "#print(type(soup))\n",
    "#print(soup) # looks a lot nicer!\n"
   ]
  },
  {
   "cell_type": "code",
   "execution_count": 5,
   "metadata": {},
   "outputs": [
    {
     "name": "stdout",
     "output_type": "stream",
     "text": [
      "Link for September 25, 1988: The First Bush-Dukakis Presidential Debate:  https://www.debates.org/voter-education/debate-transcripts/september-25-1988-debate-transcript/\n",
      "Link for October 7, 1984: The First Reagan-Mondale Presidential Debate:  https://www.debates.org/voter-education/debate-transcripts/october-7-1984-debate-transcript/\n",
      "Link for September 23, 1976: The First Carter-Ford Presidential Debate:  https://www.debates.org/voter-education/debate-transcripts/september-23-1976-debate-transcript/\n",
      "Link for September 26, 1960: The First Kennedy-Nixon Presidential Debate:  https://www.debates.org/voter-education/debate-transcripts/september-26-1960-debate-transcript/\n"
     ]
    }
   ],
   "source": [
    "#1.1\n",
    "links = soup.find_all('a')\n",
    "pre = 'https://www.debates.org'\n",
    "a4 = []\n",
    "for l in links:\n",
    "    if l.text.count('Presidential Debate'):\n",
    "        if l.text.count('First'):\n",
    "            if l.text.count('1988')or l.text.count('1984') or l.text.count('1976') or l.text.count('1960'):\n",
    "                a4.append(pre+l.get('href'))\n",
    "                print(\"Link for {}: \".format(l.text), \\\n",
    "                      pre+l.get('href'))"
   ]
  },
  {
   "cell_type": "code",
   "execution_count": 6,
   "metadata": {},
   "outputs": [
    {
     "name": "stdout",
     "output_type": "stream",
     "text": [
      "['CPD: September 25, 1988 Debate Transcript:The First Bush-Dukakis Presidential Debate', 'CPD: October 7, 1984 Debate Transcript:The First Reagan-Mondale Presidential Debate', 'CPD: September 23, 1976 Debate Transcript:The First Carter-Ford Presidential Debate', 'CPD: September 26, 1960 Debate Transcript:The First Kennedy-Nixon Presidential Debate']\n",
      "[87531, 86551, 80778, 60980]\n",
      "[11, 3, 7, 3]\n",
      "['the', 'the', 'the', 'the']\n",
      "[802, 868, 857, 780]\n"
     ]
    }
   ],
   "source": [
    "colnam = []\n",
    "debate_length = []\n",
    "count_war = []\n",
    "most_common = []\n",
    "most_common_count = []\n",
    "for i in a4:\n",
    "    source = requests.get(i) \n",
    "    soup = bs.BeautifulSoup(source.content, features='html.parser') \n",
    "#A.title \n",
    "    colnam.append(soup.title.text+\":\"+soup.find_all('strong')[1].text)\n",
    "    \n",
    "#B.count characters\n",
    "    p1 = ''\n",
    "    for p in soup.find_all('p'): # print all text paragraphs on the webpage\n",
    "        p1 = p1+p.text\n",
    "    debate_length.append(len(p1))\n",
    "#C. count war\n",
    "    char = re.findall(r\"[a-zA-Z\\-]+\", soup.text.lower())\n",
    "    character =  \" \".join(char)\n",
    "    count = character.count('war ')+character.count('war,')+character.count('war.')+character.count('war!')+character.count('wars ')+character.count('wars,')+character.count('wars.')+character.count('wars!')\n",
    "    count_war.append(count)\n",
    "#D. count the most common words\n",
    "    \n",
    "    most = Counter(char).most_common(1)\n",
    "    word = most[0][0]\n",
    "    number = most[0][1]\n",
    "    most_common.append(word)\n",
    "    most_common_count.append(number)\n",
    "\n",
    "print(colnam)\n",
    "print(debate_length)\n",
    "print(count_war)\n",
    "print(most_common)\n",
    "print(most_common_count)"
   ]
  },
  {
   "cell_type": "code",
   "execution_count": 7,
   "metadata": {},
   "outputs": [
    {
     "data": {
      "text/html": [
       "<div>\n",
       "<style scoped>\n",
       "    .dataframe tbody tr th:only-of-type {\n",
       "        vertical-align: middle;\n",
       "    }\n",
       "\n",
       "    .dataframe tbody tr th {\n",
       "        vertical-align: top;\n",
       "    }\n",
       "\n",
       "    .dataframe thead th {\n",
       "        text-align: right;\n",
       "    }\n",
       "</style>\n",
       "<table border=\"1\" class=\"dataframe\">\n",
       "  <thead>\n",
       "    <tr style=\"text-align: right;\">\n",
       "      <th></th>\n",
       "      <th>CPD: September 25, 1988 Debate Transcript:The First Bush-Dukakis Presidential Debate</th>\n",
       "      <th>CPD: October 7, 1984 Debate Transcript:The First Reagan-Mondale Presidential Debate</th>\n",
       "      <th>CPD: September 23, 1976 Debate Transcript:The First Carter-Ford Presidential Debate</th>\n",
       "      <th>CPD: September 26, 1960 Debate Transcript:The First Kennedy-Nixon Presidential Debate</th>\n",
       "    </tr>\n",
       "  </thead>\n",
       "  <tbody>\n",
       "    <tr>\n",
       "      <th>Debate Char Lenght</th>\n",
       "      <td>87531</td>\n",
       "      <td>86551</td>\n",
       "      <td>80778</td>\n",
       "      <td>60980</td>\n",
       "    </tr>\n",
       "    <tr>\n",
       "      <th>war_count</th>\n",
       "      <td>11</td>\n",
       "      <td>3</td>\n",
       "      <td>7</td>\n",
       "      <td>3</td>\n",
       "    </tr>\n",
       "    <tr>\n",
       "      <th>most_common_w</th>\n",
       "      <td>the</td>\n",
       "      <td>the</td>\n",
       "      <td>the</td>\n",
       "      <td>the</td>\n",
       "    </tr>\n",
       "    <tr>\n",
       "      <th>most_common_w_count</th>\n",
       "      <td>802</td>\n",
       "      <td>868</td>\n",
       "      <td>857</td>\n",
       "      <td>780</td>\n",
       "    </tr>\n",
       "  </tbody>\n",
       "</table>\n",
       "</div>"
      ],
      "text/plain": [
       "                    CPD: September 25, 1988 Debate Transcript:The First Bush-Dukakis Presidential Debate  \\\n",
       "Debate Char Lenght                                               87531                                     \n",
       "war_count                                                           11                                     \n",
       "most_common_w                                                      the                                     \n",
       "most_common_w_count                                                802                                     \n",
       "\n",
       "                    CPD: October 7, 1984 Debate Transcript:The First Reagan-Mondale Presidential Debate  \\\n",
       "Debate Char Lenght                                               86551                                    \n",
       "war_count                                                            3                                    \n",
       "most_common_w                                                      the                                    \n",
       "most_common_w_count                                                868                                    \n",
       "\n",
       "                    CPD: September 23, 1976 Debate Transcript:The First Carter-Ford Presidential Debate  \\\n",
       "Debate Char Lenght                                               80778                                    \n",
       "war_count                                                            7                                    \n",
       "most_common_w                                                      the                                    \n",
       "most_common_w_count                                                857                                    \n",
       "\n",
       "                    CPD: September 26, 1960 Debate Transcript:The First Kennedy-Nixon Presidential Debate  \n",
       "Debate Char Lenght                                               60980                                     \n",
       "war_count                                                            3                                     \n",
       "most_common_w                                                      the                                     \n",
       "most_common_w_count                                                780                                     "
      ]
     },
     "metadata": {},
     "output_type": "display_data"
    }
   ],
   "source": [
    "df = pd.DataFrame([debate_length,count_war,most_common,most_common_count],columns=colnam,index=['Debate Char Lenght','war_count','most_common_w','most_common_w_count'])\n",
    "display(df)"
   ]
  },
  {
   "cell_type": "markdown",
   "metadata": {},
   "source": [
    "    \n",
    "## 2. Download and read in specific line from many data sets\n",
    "\n",
    "Scrape the first 27 data sets from this URL http://people.sc.fsu.edu/~jburkardt/datasets/regression/ (i.e.`x01.txt` - `x27.txt`). Then, save the 5th line in each data set, this should be the name of the data set author (get rid of the `#` symbol, the white spaces and the comma at the end). \n",
    "\n",
    "Count how many times (with a Python function) each author is the reference for one of the 27 data sets. Showcase your results, sorted, with the most common author name first and how many times he appeared in data sets. Use a Pandas DataFrame to show your results, see example. **Print your final output result.**\n",
    "\n",
    "**Example output of the answer for Question 2:**\n",
    "\n",
    "![author_stats](https://github.com/ikhlaqsidhu/data-x/raw/master/x-archive/misc/hw2_imgs_spring2018/data_authors.png)\n"
   ]
  },
  {
   "cell_type": "code",
   "execution_count": 8,
   "metadata": {},
   "outputs": [],
   "source": [
    "source = requests.get(\"http://people.sc.fsu.edu/~jburkardt/datasets/regression/\")\n",
    "soup = bs.BeautifulSoup(source.content, features='html.parser') \n",
    "\n",
    "links = soup.find_all('a')\n",
    "url = []\n",
    "add = 'http://people.sc.fsu.edu/~jburkardt/datasets/regression/'\n",
    "for l in links:\n",
    "    if l.text.count('x'):\n",
    "        url.append(add+l.get('href'))\n",
    "url = url[0:27]\n"
   ]
  },
  {
   "cell_type": "code",
   "execution_count": 9,
   "metadata": {},
   "outputs": [
    {
     "name": "stdout",
     "output_type": "stream",
     "text": [
      "dict_items([('    Helmut Spaeth', 16), ('    R J Freund and P D Minton', 2), ('    D G Kleinbaum and L L Kupper', 2), ('    K A Brownlee', 1), ('    S Chatterjee and B Price', 1), ('    S Chatterjee, B Price', 3), ('    S C Narula, J F Wellington', 2)])\n"
     ]
    }
   ],
   "source": [
    "fifthline = [];\n",
    "for i in url:\n",
    "    source = requests.get(i) \n",
    "    soup = bs.BeautifulSoup(source.content, features='html.parser') \n",
    "    for line in soup:\n",
    "        body = line.split('\\n')\n",
    "        fifthline.append((body[4]).strip(\"\").strip(',').strip('#'))\n",
    "author = Counter(fifthline).items()\n",
    "print(author)\n",
    "\n",
    "author_name = []\n",
    "author_time = []\n",
    "for i in author:\n",
    "    author_name.append([i][0][0])\n",
    "    author_time.append([i][0][1])"
   ]
  },
  {
   "cell_type": "code",
   "execution_count": 10,
   "metadata": {},
   "outputs": [
    {
     "data": {
      "text/html": [
       "<div>\n",
       "<style scoped>\n",
       "    .dataframe tbody tr th:only-of-type {\n",
       "        vertical-align: middle;\n",
       "    }\n",
       "\n",
       "    .dataframe tbody tr th {\n",
       "        vertical-align: top;\n",
       "    }\n",
       "\n",
       "    .dataframe thead th {\n",
       "        text-align: right;\n",
       "    }\n",
       "</style>\n",
       "<table border=\"1\" class=\"dataframe\">\n",
       "  <thead>\n",
       "    <tr style=\"text-align: right;\">\n",
       "      <th></th>\n",
       "      <th>Counts</th>\n",
       "    </tr>\n",
       "    <tr>\n",
       "      <th>Authors</th>\n",
       "      <th></th>\n",
       "    </tr>\n",
       "  </thead>\n",
       "  <tbody>\n",
       "    <tr>\n",
       "      <th>Helmut Spaeth</th>\n",
       "      <td>16</td>\n",
       "    </tr>\n",
       "    <tr>\n",
       "      <th>S Chatterjee, B Price</th>\n",
       "      <td>3</td>\n",
       "    </tr>\n",
       "    <tr>\n",
       "      <th>R J Freund and P D Minton</th>\n",
       "      <td>2</td>\n",
       "    </tr>\n",
       "    <tr>\n",
       "      <th>D G Kleinbaum and L L Kupper</th>\n",
       "      <td>2</td>\n",
       "    </tr>\n",
       "    <tr>\n",
       "      <th>S C Narula, J F Wellington</th>\n",
       "      <td>2</td>\n",
       "    </tr>\n",
       "    <tr>\n",
       "      <th>K A Brownlee</th>\n",
       "      <td>1</td>\n",
       "    </tr>\n",
       "    <tr>\n",
       "      <th>S Chatterjee and B Price</th>\n",
       "      <td>1</td>\n",
       "    </tr>\n",
       "  </tbody>\n",
       "</table>\n",
       "</div>"
      ],
      "text/plain": [
       "                                 Counts\n",
       "Authors                                \n",
       "    Helmut Spaeth                    16\n",
       "    S Chatterjee, B Price             3\n",
       "    R J Freund and P D Minton         2\n",
       "    D G Kleinbaum and L L Kupper      2\n",
       "    S C Narula, J F Wellington        2\n",
       "    K A Brownlee                      1\n",
       "    S Chatterjee and B Price          1"
      ]
     },
     "metadata": {},
     "output_type": "display_data"
    }
   ],
   "source": [
    "df = pd.DataFrame([author_name,author_time],index=['Authors','Counts']).transpose()\n",
    "df = df.sort_values(by ='Counts',ascending = False)\n",
    "df = df.set_index('Authors')\n",
    "display(df)"
   ]
  }
 ],
 "metadata": {
  "kernel_info": {
   "name": "data-x"
  },
  "kernelspec": {
   "display_name": "Python 3",
   "language": "python",
   "name": "python3"
  },
  "language_info": {
   "codemirror_mode": {
    "name": "ipython",
    "version": 3
   },
   "file_extension": ".py",
   "mimetype": "text/x-python",
   "name": "python",
   "nbconvert_exporter": "python",
   "pygments_lexer": "ipython3",
   "version": "3.7.1"
  },
  "nteract": {
   "version": "0.7.1"
  }
 },
 "nbformat": 4,
 "nbformat_minor": 2
}
